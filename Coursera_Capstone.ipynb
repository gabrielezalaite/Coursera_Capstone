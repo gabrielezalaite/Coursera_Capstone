{
 "cells": [
  {
   "cell_type": "markdown",
   "id": "capable-illustration",
   "metadata": {},
   "source": [
    "This will be used for Coursera Capstone project"
   ]
  },
  {
   "cell_type": "code",
   "execution_count": 1,
   "id": "alike-yugoslavia",
   "metadata": {},
   "outputs": [],
   "source": [
    "import pandas as pd\n",
    "import numpy as np"
   ]
  },
  {
   "cell_type": "code",
   "execution_count": 2,
   "id": "supreme-sponsorship",
   "metadata": {},
   "outputs": [
    {
     "name": "stdout",
     "output_type": "stream",
     "text": [
      "Hello Capstone Project Course!\n"
     ]
    }
   ],
   "source": [
    "print('Hello Capstone Project Course!')"
   ]
  },
  {
   "cell_type": "markdown",
   "id": "informative-israel",
   "metadata": {},
   "source": [
    "Business problem: \n",
    "There is a family that wants to open a family run authentic Japanese restaurant in Toronto. They are not a chain and are going for the loyal reliable customer base rather than flashy tourist attraction. They want to open a restaurant in a relatively high population density area first and somewhere where there isn’t a lot of similar competition and then where there isn’t a lot of other restaurants either considering that they think that this will increase their chances to gain customers if they aren’t spoiled for choice. They want a local supply of staples in Japanese cuisine such as fish, as these tend to go off rather quickly so ideally, they will want a nearby fresh fish market.  If there is a fresh food market in all of their top regions then amount of popular attractions will be considered as the final deciding factor.\n",
    "Deciding factors:\n",
    "1.\tAccess to local fishing docks/fish market \n",
    "2.\tPopulation density- to target loyal clientele that will come back, not tourists\n",
    "3.\tOther restaurants of the same type in the area\n",
    "4.\tAmount of all restaurants in the area\n",
    "Nice to have all else being equal:\n",
    "5.\tFoot traffic, where in Toronto is there the highest density of most popular attractions\n",
    "\n",
    "Data:\n",
    "1.\tFoursquare data on markets containing keywords ‘fresh fish’\n",
    "2.\tData from https://en.wikipedia.org/wiki/Demographics_of_Toronto_neighbourhoods\n",
    "3.\tFoursquare data on restaurants in the area containing keywords ‘Japanese food’\n",
    "4.\tFoursquare data on all restaurants in the area \n",
    "5.\tFoursquare top 50 picks of locations for Toronto\n"
   ]
  },
  {
   "cell_type": "code",
   "execution_count": null,
   "id": "optical-catering",
   "metadata": {},
   "outputs": [],
   "source": []
  }
 ],
 "metadata": {
  "kernelspec": {
   "display_name": "Python 3",
   "language": "python",
   "name": "python3"
  },
  "language_info": {
   "codemirror_mode": {
    "name": "ipython",
    "version": 3
   },
   "file_extension": ".py",
   "mimetype": "text/x-python",
   "name": "python",
   "nbconvert_exporter": "python",
   "pygments_lexer": "ipython3",
   "version": "3.7.9"
  }
 },
 "nbformat": 4,
 "nbformat_minor": 5
}
